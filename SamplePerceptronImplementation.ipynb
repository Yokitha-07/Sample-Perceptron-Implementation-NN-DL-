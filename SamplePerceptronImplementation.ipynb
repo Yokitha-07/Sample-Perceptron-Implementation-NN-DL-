{
  "cells": [
    {
      "cell_type": "markdown",
      "metadata": {
        "id": "OIitjmcAUdNj"
      },
      "source": [
        "Import packages/libraries"
      ]
    },
    {
      "cell_type": "code",
      "execution_count": 25,
      "metadata": {
        "id": "AllKNJigUWZd"
      },
      "outputs": [],
      "source": [
        "import numpy as np\n",
        "import pandas as pd\n",
        "import matplotlib.pyplot as plt\n",
        "\n",
        "from sklearn.datasets import make_classification\n",
        "from sklearn.model_selection import train_test_split"
      ]
    },
    {
      "cell_type": "markdown",
      "metadata": {
        "id": "b-xEO-yFUjLz"
      },
      "source": [
        "Creating the dataset"
      ]
    },
    {
      "cell_type": "code",
      "execution_count": 29,
      "metadata": {
        "id": "CHGHgPdUUmcE"
      },
      "outputs": [],
      "source": [
        "features, targets = make_classification(n_samples = 60, n_features = 2, n_informative = 1, n_redundant = 0, n_clusters_per_class = 1, random_state = 1)"
      ]
    },
    {
      "cell_type": "code",
      "execution_count": 30,
      "metadata": {
        "colab": {
          "base_uri": "https://localhost:8080/",
          "height": 206
        },
        "id": "SHgcDUdgUzKt",
        "outputId": "fec5312d-9b1b-433b-a9c1-0534232e6836"
      },
      "outputs": [
        {
          "output_type": "execute_result",
          "data": {
            "text/plain": [
              "         x1        x2  targets\n",
              "0 -1.552019  0.827975        0\n",
              "1  0.718618  0.408901        1\n",
              "2 -2.155107  1.519817        0\n",
              "3 -1.382038 -1.396496        0\n",
              "4  1.207666  0.423494        1"
            ],
            "text/html": [
              "\n",
              "  <div id=\"df-0c0acd05-9e10-4442-b08d-6d839005b37a\" class=\"colab-df-container\">\n",
              "    <div>\n",
              "<style scoped>\n",
              "    .dataframe tbody tr th:only-of-type {\n",
              "        vertical-align: middle;\n",
              "    }\n",
              "\n",
              "    .dataframe tbody tr th {\n",
              "        vertical-align: top;\n",
              "    }\n",
              "\n",
              "    .dataframe thead th {\n",
              "        text-align: right;\n",
              "    }\n",
              "</style>\n",
              "<table border=\"1\" class=\"dataframe\">\n",
              "  <thead>\n",
              "    <tr style=\"text-align: right;\">\n",
              "      <th></th>\n",
              "      <th>x1</th>\n",
              "      <th>x2</th>\n",
              "      <th>targets</th>\n",
              "    </tr>\n",
              "  </thead>\n",
              "  <tbody>\n",
              "    <tr>\n",
              "      <th>0</th>\n",
              "      <td>-1.552019</td>\n",
              "      <td>0.827975</td>\n",
              "      <td>0</td>\n",
              "    </tr>\n",
              "    <tr>\n",
              "      <th>1</th>\n",
              "      <td>0.718618</td>\n",
              "      <td>0.408901</td>\n",
              "      <td>1</td>\n",
              "    </tr>\n",
              "    <tr>\n",
              "      <th>2</th>\n",
              "      <td>-2.155107</td>\n",
              "      <td>1.519817</td>\n",
              "      <td>0</td>\n",
              "    </tr>\n",
              "    <tr>\n",
              "      <th>3</th>\n",
              "      <td>-1.382038</td>\n",
              "      <td>-1.396496</td>\n",
              "      <td>0</td>\n",
              "    </tr>\n",
              "    <tr>\n",
              "      <th>4</th>\n",
              "      <td>1.207666</td>\n",
              "      <td>0.423494</td>\n",
              "      <td>1</td>\n",
              "    </tr>\n",
              "  </tbody>\n",
              "</table>\n",
              "</div>\n",
              "    <div class=\"colab-df-buttons\">\n",
              "\n",
              "  <div class=\"colab-df-container\">\n",
              "    <button class=\"colab-df-convert\" onclick=\"convertToInteractive('df-0c0acd05-9e10-4442-b08d-6d839005b37a')\"\n",
              "            title=\"Convert this dataframe to an interactive table.\"\n",
              "            style=\"display:none;\">\n",
              "\n",
              "  <svg xmlns=\"http://www.w3.org/2000/svg\" height=\"24px\" viewBox=\"0 -960 960 960\">\n",
              "    <path d=\"M120-120v-720h720v720H120Zm60-500h600v-160H180v160Zm220 220h160v-160H400v160Zm0 220h160v-160H400v160ZM180-400h160v-160H180v160Zm440 0h160v-160H620v160ZM180-180h160v-160H180v160Zm440 0h160v-160H620v160Z\"/>\n",
              "  </svg>\n",
              "    </button>\n",
              "\n",
              "  <style>\n",
              "    .colab-df-container {\n",
              "      display:flex;\n",
              "      gap: 12px;\n",
              "    }\n",
              "\n",
              "    .colab-df-convert {\n",
              "      background-color: #E8F0FE;\n",
              "      border: none;\n",
              "      border-radius: 50%;\n",
              "      cursor: pointer;\n",
              "      display: none;\n",
              "      fill: #1967D2;\n",
              "      height: 32px;\n",
              "      padding: 0 0 0 0;\n",
              "      width: 32px;\n",
              "    }\n",
              "\n",
              "    .colab-df-convert:hover {\n",
              "      background-color: #E2EBFA;\n",
              "      box-shadow: 0px 1px 2px rgba(60, 64, 67, 0.3), 0px 1px 3px 1px rgba(60, 64, 67, 0.15);\n",
              "      fill: #174EA6;\n",
              "    }\n",
              "\n",
              "    .colab-df-buttons div {\n",
              "      margin-bottom: 4px;\n",
              "    }\n",
              "\n",
              "    [theme=dark] .colab-df-convert {\n",
              "      background-color: #3B4455;\n",
              "      fill: #D2E3FC;\n",
              "    }\n",
              "\n",
              "    [theme=dark] .colab-df-convert:hover {\n",
              "      background-color: #434B5C;\n",
              "      box-shadow: 0px 1px 3px 1px rgba(0, 0, 0, 0.15);\n",
              "      filter: drop-shadow(0px 1px 2px rgba(0, 0, 0, 0.3));\n",
              "      fill: #FFFFFF;\n",
              "    }\n",
              "  </style>\n",
              "\n",
              "    <script>\n",
              "      const buttonEl =\n",
              "        document.querySelector('#df-0c0acd05-9e10-4442-b08d-6d839005b37a button.colab-df-convert');\n",
              "      buttonEl.style.display =\n",
              "        google.colab.kernel.accessAllowed ? 'block' : 'none';\n",
              "\n",
              "      async function convertToInteractive(key) {\n",
              "        const element = document.querySelector('#df-0c0acd05-9e10-4442-b08d-6d839005b37a');\n",
              "        const dataTable =\n",
              "          await google.colab.kernel.invokeFunction('convertToInteractive',\n",
              "                                                    [key], {});\n",
              "        if (!dataTable) return;\n",
              "\n",
              "        const docLinkHtml = 'Like what you see? Visit the ' +\n",
              "          '<a target=\"_blank\" href=https://colab.research.google.com/notebooks/data_table.ipynb>data table notebook</a>'\n",
              "          + ' to learn more about interactive tables.';\n",
              "        element.innerHTML = '';\n",
              "        dataTable['output_type'] = 'display_data';\n",
              "        await google.colab.output.renderOutput(dataTable, element);\n",
              "        const docLink = document.createElement('div');\n",
              "        docLink.innerHTML = docLinkHtml;\n",
              "        element.appendChild(docLink);\n",
              "      }\n",
              "    </script>\n",
              "  </div>\n",
              "\n",
              "\n",
              "<div id=\"df-617ca128-b9d5-4ac3-836d-d53815dbafa9\">\n",
              "  <button class=\"colab-df-quickchart\" onclick=\"quickchart('df-617ca128-b9d5-4ac3-836d-d53815dbafa9')\"\n",
              "            title=\"Suggest charts\"\n",
              "            style=\"display:none;\">\n",
              "\n",
              "<svg xmlns=\"http://www.w3.org/2000/svg\" height=\"24px\"viewBox=\"0 0 24 24\"\n",
              "     width=\"24px\">\n",
              "    <g>\n",
              "        <path d=\"M19 3H5c-1.1 0-2 .9-2 2v14c0 1.1.9 2 2 2h14c1.1 0 2-.9 2-2V5c0-1.1-.9-2-2-2zM9 17H7v-7h2v7zm4 0h-2V7h2v10zm4 0h-2v-4h2v4z\"/>\n",
              "    </g>\n",
              "</svg>\n",
              "  </button>\n",
              "\n",
              "<style>\n",
              "  .colab-df-quickchart {\n",
              "      --bg-color: #E8F0FE;\n",
              "      --fill-color: #1967D2;\n",
              "      --hover-bg-color: #E2EBFA;\n",
              "      --hover-fill-color: #174EA6;\n",
              "      --disabled-fill-color: #AAA;\n",
              "      --disabled-bg-color: #DDD;\n",
              "  }\n",
              "\n",
              "  [theme=dark] .colab-df-quickchart {\n",
              "      --bg-color: #3B4455;\n",
              "      --fill-color: #D2E3FC;\n",
              "      --hover-bg-color: #434B5C;\n",
              "      --hover-fill-color: #FFFFFF;\n",
              "      --disabled-bg-color: #3B4455;\n",
              "      --disabled-fill-color: #666;\n",
              "  }\n",
              "\n",
              "  .colab-df-quickchart {\n",
              "    background-color: var(--bg-color);\n",
              "    border: none;\n",
              "    border-radius: 50%;\n",
              "    cursor: pointer;\n",
              "    display: none;\n",
              "    fill: var(--fill-color);\n",
              "    height: 32px;\n",
              "    padding: 0;\n",
              "    width: 32px;\n",
              "  }\n",
              "\n",
              "  .colab-df-quickchart:hover {\n",
              "    background-color: var(--hover-bg-color);\n",
              "    box-shadow: 0 1px 2px rgba(60, 64, 67, 0.3), 0 1px 3px 1px rgba(60, 64, 67, 0.15);\n",
              "    fill: var(--button-hover-fill-color);\n",
              "  }\n",
              "\n",
              "  .colab-df-quickchart-complete:disabled,\n",
              "  .colab-df-quickchart-complete:disabled:hover {\n",
              "    background-color: var(--disabled-bg-color);\n",
              "    fill: var(--disabled-fill-color);\n",
              "    box-shadow: none;\n",
              "  }\n",
              "\n",
              "  .colab-df-spinner {\n",
              "    border: 2px solid var(--fill-color);\n",
              "    border-color: transparent;\n",
              "    border-bottom-color: var(--fill-color);\n",
              "    animation:\n",
              "      spin 1s steps(1) infinite;\n",
              "  }\n",
              "\n",
              "  @keyframes spin {\n",
              "    0% {\n",
              "      border-color: transparent;\n",
              "      border-bottom-color: var(--fill-color);\n",
              "      border-left-color: var(--fill-color);\n",
              "    }\n",
              "    20% {\n",
              "      border-color: transparent;\n",
              "      border-left-color: var(--fill-color);\n",
              "      border-top-color: var(--fill-color);\n",
              "    }\n",
              "    30% {\n",
              "      border-color: transparent;\n",
              "      border-left-color: var(--fill-color);\n",
              "      border-top-color: var(--fill-color);\n",
              "      border-right-color: var(--fill-color);\n",
              "    }\n",
              "    40% {\n",
              "      border-color: transparent;\n",
              "      border-right-color: var(--fill-color);\n",
              "      border-top-color: var(--fill-color);\n",
              "    }\n",
              "    60% {\n",
              "      border-color: transparent;\n",
              "      border-right-color: var(--fill-color);\n",
              "    }\n",
              "    80% {\n",
              "      border-color: transparent;\n",
              "      border-right-color: var(--fill-color);\n",
              "      border-bottom-color: var(--fill-color);\n",
              "    }\n",
              "    90% {\n",
              "      border-color: transparent;\n",
              "      border-bottom-color: var(--fill-color);\n",
              "    }\n",
              "  }\n",
              "</style>\n",
              "\n",
              "  <script>\n",
              "    async function quickchart(key) {\n",
              "      const quickchartButtonEl =\n",
              "        document.querySelector('#' + key + ' button');\n",
              "      quickchartButtonEl.disabled = true;  // To prevent multiple clicks.\n",
              "      quickchartButtonEl.classList.add('colab-df-spinner');\n",
              "      try {\n",
              "        const charts = await google.colab.kernel.invokeFunction(\n",
              "            'suggestCharts', [key], {});\n",
              "      } catch (error) {\n",
              "        console.error('Error during call to suggestCharts:', error);\n",
              "      }\n",
              "      quickchartButtonEl.classList.remove('colab-df-spinner');\n",
              "      quickchartButtonEl.classList.add('colab-df-quickchart-complete');\n",
              "    }\n",
              "    (() => {\n",
              "      let quickchartButtonEl =\n",
              "        document.querySelector('#df-617ca128-b9d5-4ac3-836d-d53815dbafa9 button');\n",
              "      quickchartButtonEl.style.display =\n",
              "        google.colab.kernel.accessAllowed ? 'block' : 'none';\n",
              "    })();\n",
              "  </script>\n",
              "</div>\n",
              "\n",
              "    </div>\n",
              "  </div>\n"
            ],
            "application/vnd.google.colaboratory.intrinsic+json": {
              "type": "dataframe",
              "variable_name": "df",
              "summary": "{\n  \"name\": \"df\",\n  \"rows\": 60,\n  \"fields\": [\n    {\n      \"column\": \"x1\",\n      \"properties\": {\n        \"dtype\": \"number\",\n        \"std\": 1.0892391603311644,\n        \"min\": -2.155107445206488,\n        \"max\": 1.345272788083266,\n        \"num_unique_values\": 60,\n        \"samples\": [\n          -1.552018783570391,\n          0.7325074049900603,\n          1.1055725291491203\n        ],\n        \"semantic_type\": \"\",\n        \"description\": \"\"\n      }\n    },\n    {\n      \"column\": \"x2\",\n      \"properties\": {\n        \"dtype\": \"number\",\n        \"std\": 0.8220031704273076,\n        \"min\": -2.022201215824003,\n        \"max\": 2.1855754065331614,\n        \"num_unique_values\": 60,\n        \"samples\": [\n          0.8279746426072462,\n          -0.7751616191691596,\n          -1.3122834112374318\n        ],\n        \"semantic_type\": \"\",\n        \"description\": \"\"\n      }\n    },\n    {\n      \"column\": \"targets\",\n      \"properties\": {\n        \"dtype\": \"number\",\n        \"std\": 0,\n        \"min\": 0,\n        \"max\": 1,\n        \"num_unique_values\": 2,\n        \"samples\": [\n          1,\n          0\n        ],\n        \"semantic_type\": \"\",\n        \"description\": \"\"\n      }\n    }\n  ]\n}"
            }
          },
          "metadata": {},
          "execution_count": 30
        }
      ],
      "source": [
        "df = pd.DataFrame(data=features, columns=['x1', 'x2'])\n",
        "df['targets'] = targets\n",
        "df.head()"
      ]
    },
    {
      "cell_type": "markdown",
      "metadata": {
        "id": "G2UtiYT-U1a-"
      },
      "source": [
        "Visualize the dataset"
      ]
    },
    {
      "cell_type": "code",
      "execution_count": 31,
      "metadata": {
        "colab": {
          "base_uri": "https://localhost:8080/",
          "height": 461
        },
        "id": "Zo93QVmuU4Q1",
        "outputId": "f0953909-a7bb-454b-dd1c-c441c724ce6b"
      },
      "outputs": [
        {
          "output_type": "display_data",
          "data": {
            "text/plain": [
              "<Figure size 640x480 with 1 Axes>"
            ],
            "image/png": "[encoded data removed]"
          },
          "metadata": {}
        }
      ],
      "source": [
        "plt.plot(\n",
        "    features[targets == 0, 0],\n",
        "    features[targets == 0, 1],\n",
        "    marker = 'P',\n",
        "    markersize = 10,\n",
        "    linestyle = '',\n",
        "    label = 'Class 0'\n",
        "\n",
        ")\n",
        "\n",
        "plt.plot(\n",
        "    features[targets == 1, 0],\n",
        "    features[targets == 1, 1],\n",
        "    marker = '^',\n",
        "    markersize = 10,\n",
        "    linestyle = '',\n",
        "    label = 'Class 1'\n",
        ")\n",
        "\n",
        "plt.legend(loc = 2)\n",
        "\n",
        "plt.xlim(-2, 2)\n",
        "plt.ylim(-2, 2)\n",
        "\n",
        "plt.xlabel(\"Feature $x_1$\", fontsize=12)\n",
        "plt.ylabel(\"Feature $x_2$\", fontsize=12)\n",
        "\n",
        "plt.grid()\n",
        "plt.show()"
      ]
    },
    {
      "cell_type": "markdown",
      "metadata": {
        "id": "6c00OSBiVHZe"
      },
      "source": [
        "Create the perceptron"
      ]
    },
    {
      "cell_type": "code",
      "execution_count": 32,
      "metadata": {
        "id": "tDzbbRiDVQuB"
      },
      "outputs": [],
      "source": [
        "class Perceptron:\n",
        "    def __init__(self, num_features):\n",
        "        self.num_features = num_features\n",
        "        self.weights = [0.0 for _ in range(num_features)]\n",
        "        self.bias = 0\n",
        "\n",
        "    def forward(self, x):\n",
        "        weighted_sum_z = self.bias\n",
        "        for i, _ in enumerate(self.weights):\n",
        "            weighted_sum_z += x[i] * self.weights[i]\n",
        "\n",
        "        if weighted_sum_z > 0:\n",
        "            prediction = 1\n",
        "        else:\n",
        "            prediction = 0\n",
        "\n",
        "        return prediction\n",
        "\n",
        "    def update(self, x, y_true):\n",
        "        prediction = self.forward(x)\n",
        "        error = y_true - prediction\n",
        "\n",
        "        # Updating the weights\n",
        "        self.bias += error\n",
        "        for i, _ in enumerate(self.weights):\n",
        "            self.weights[i] += error * x[i]\n",
        "\n",
        "        return error"
      ]
    },
    {
      "cell_type": "markdown",
      "metadata": {
        "id": "EdgqN1GRV4v9"
      },
      "source": [
        "Train the Model"
      ]
    },
    {
      "cell_type": "code",
      "execution_count": 33,
      "metadata": {
        "id": "XQf5DvBQV61U"
      },
      "outputs": [],
      "source": [
        "def train(model, X_train, y_train, epochs):\n",
        "    # Training Loop\n",
        "    for epoch in range(epochs):\n",
        "        error_count = 0\n",
        "\n",
        "        for x, y in zip(X_train, y_train):\n",
        "            error = model.update(x, y)\n",
        "            error_count += abs(error)\n",
        "\n",
        "        print(f\"Epoch {epoch + 1} errors {error_count}\")"
      ]
    },
    {
      "cell_type": "markdown",
      "metadata": {
        "id": "wUaZNayIWvvK"
      },
      "source": [
        "Create a perceptron"
      ]
    },
    {
      "cell_type": "code",
      "execution_count": 41,
      "metadata": {
        "colab": {
          "base_uri": "https://localhost:8080/"
        },
        "id": "cr8JZ7FXWxpS",
        "outputId": "cbca6a91-3d23-4cd9-da47-71b5ca96445f"
      },
      "outputs": [
        {
          "output_type": "stream",
          "name": "stdout",
          "text": [
            "Epoch 1 errors 2\n",
            "Epoch 2 errors 0\n",
            "Epoch 3 errors 0\n",
            "Epoch 4 errors 0\n",
            "Epoch 5 errors 0\n",
            "Epoch 6 errors 0\n"
          ]
        }
      ],
      "source": [
        "ppn = Perceptron(num_features = 2)\n",
        "train(ppn, features, targets, epochs =6)"
      ]
    },
    {
      "cell_type": "markdown",
      "metadata": {
        "id": "4Mw8bKtUWKEe"
      },
      "source": [
        "Evaluate the model"
      ]
    },
    {
      "cell_type": "code",
      "execution_count": 42,
      "metadata": {
        "id": "iSwf2rAjWQ_H"
      },
      "outputs": [],
      "source": [
        "def compute_accuracy(model, features, targets):\n",
        "    correct = 0.0\n",
        "\n",
        "    for x, y in zip(features, targets):\n",
        "        prediction = model.forward(x)\n",
        "        correct += int(prediction == y)\n",
        "\n",
        "    return correct / len(targets)"
      ]
    },
    {
      "cell_type": "code",
      "execution_count": 43,
      "metadata": {
        "colab": {
          "base_uri": "https://localhost:8080/"
        },
        "id": "KI_etEWoW5I6",
        "outputId": "fb053c2a-5d3b-4ce7-f7bf-6a4625017e82"
      },
      "outputs": [
        {
          "output_type": "stream",
          "name": "stdout",
          "text": [
            "Model Accuracy: 1.0\n"
          ]
        }
      ],
      "source": [
        "train_acc = compute_accuracy(ppn, features, targets)\n",
        "print(\"Model Accuracy:\", train_acc)"
      ]
    },
    {
      "cell_type": "markdown",
      "metadata": {
        "id": "GfHwcQqpW8SM"
      },
      "source": [
        "Plot the Decision Boundry"
      ]
    },
    {
      "cell_type": "code",
      "execution_count": 44,
      "metadata": {
        "id": "MXIYd2vtW9Yz"
      },
      "outputs": [],
      "source": [
        "def plot_boundary(model):\n",
        "\n",
        "    w1, w2 = model.weights[0], model.weights[1]\n",
        "    b = model.bias\n",
        "\n",
        "    x1_min = -20\n",
        "    x2_min = (-(w1 * x1_min) - b) / w2\n",
        "\n",
        "    x1_max = 20\n",
        "    x2_max = (-(w1 * x1_max) - b) / w2\n",
        "\n",
        "    return x1_min, x1_max, x2_min, x2_max"
      ]
    },
    {
      "cell_type": "code",
      "execution_count": 45,
      "metadata": {
        "colab": {
          "base_uri": "https://localhost:8080/",
          "height": 461
        },
        "id": "Z1I22zR2XDoO",
        "outputId": "909e7cdb-4f91-4172-8b02-b58f19b2648b"
      },
      "outputs": [
        {
          "output_type": "display_data",
          "data": {
            "text/plain": [
              "<Figure size 640x480 with 1 Axes>"
            ],
            "image/png": "[encoded data removed]"
          },
          "metadata": {}
        }
      ],
      "source": [
        "x1_min, x1_max, x2_min, x2_max = plot_boundary(ppn)\n",
        "\n",
        "plt.plot(\n",
        "    features[targets == 0, 0],\n",
        "    features[targets == 0, 1],\n",
        "    marker=\"D\",\n",
        "    markersize=10,\n",
        "    linestyle=\"\",\n",
        "    label=\"Class 0\",\n",
        ")\n",
        "\n",
        "plt.plot(\n",
        "    features[targets == 1, 0],\n",
        "    features[targets == 1, 1],\n",
        "    marker=\"^\",\n",
        "    markersize=13,\n",
        "    linestyle=\"\",\n",
        "    label=\"Class 1\",\n",
        ")\n",
        "\n",
        "plt.plot([x1_min, x1_max], [x2_min, x2_max], color=\"k\")\n",
        "\n",
        "plt.legend(loc=2)\n",
        "\n",
        "plt.xlim([-2, 2])\n",
        "plt.ylim([-2, 2])\n",
        "\n",
        "plt.xlabel(\"Feature $x_1$\", fontsize=12)\n",
        "plt.ylabel(\"Feature $x_2$\", fontsize=12)\n",
        "\n",
        "plt.grid()\n",
        "plt.show()"
      ]
    },
    {
      "cell_type": "markdown",
      "source": [
        "Split the dataset and test accuracy computation\n"
      ],
      "metadata": {
        "id": "wOcUpxjRb6L5"
      }
    },
    {
      "cell_type": "code",
      "source": [
        "X_train, X_test, y_train, y_test = train_test_split(features, targets, test_size=0.2, random_state=42)\n",
        "\n",
        "ppn = Perceptron(num_features=2)\n",
        "\n",
        "epochs = 10\n",
        "for epoch in range(epochs):\n",
        "    for x, y in zip(X_train, y_train):\n",
        "        ppn.update(x, y)\n",
        "\n",
        "test_acc = compute_accuracy(ppn, X_test, y_test)\n",
        "print(\"Test Accuracy:\", test_acc)\n"
      ],
      "metadata": {
        "colab": {
          "base_uri": "https://localhost:8080/"
        },
        "id": "CwG5Z7-sV7vK",
        "outputId": "164ac117-b4c3-4940-f4d7-a1cfb4a41d29"
      },
      "execution_count": 47,
      "outputs": [
        {
          "output_type": "stream",
          "name": "stdout",
          "text": [
            "Test Accuracy: 1.0\n"
          ]
        }
      ]
    }
  ],
  "metadata": {
    "colab": {
      "provenance": []
    },
    "kernelspec": {
      "display_name": "Python 3",
      "name": "python3"
    },
    "language_info": {
      "codemirror_mode": {
        "name": "ipython",
        "version": 3
      },
      "file_extension": ".py",
      "mimetype": "text/x-python",
      "name": "python",
      "nbconvert_exporter": "python",
      "pygments_lexer": "ipython3",
      "version": "3.9.7"
    }
  },
  "nbformat": 4,
  "nbformat_minor": 0
}